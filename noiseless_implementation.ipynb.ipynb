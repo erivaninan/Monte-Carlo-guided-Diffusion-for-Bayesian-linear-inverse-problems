{
  "cells": [
    {
      "cell_type": "markdown",
      "metadata": {
        "id": "y_EDpbCJ8kSm"
      },
      "source": [
        "Erivan INAN, Sarah OUAHAB, Sheïma MEBARKA"
      ]
    },
    {
      "cell_type": "markdown",
      "metadata": {
        "id": "U-6mG3uP8kSs"
      },
      "source": [
        "## Méthodes de simulation pour les modèles génératifs"
      ]
    },
    {
      "cell_type": "markdown",
      "metadata": {
        "id": "rv3NiLRH8kSu"
      },
      "source": [
        "Ce notebook a pour but l'implémentation (partielle et simplifiée) du papier ***``Diffusion guidée de Monte Carlo pour les problèmes inverses\n",
        "linéaires bayésiens``*** (2023) par Gabriel Cardoso, Yazid Janati El Idrissi, Sylvain Le Corff et Eric Moulines.\n",
        "\n",
        "DOI : 10.48550/arXiv.2308.07983\n",
        "https://arxiv.org/abs/2308.07983\n"
      ]
    },
    {
      "cell_type": "markdown",
      "metadata": {
        "id": "gqEuwYb68kSv"
      },
      "source": [
        "### <font color=darkred> Contexte du papier </font>"
      ]
    },
    {
      "cell_type": "markdown",
      "metadata": {
        "id": "q2s4VqJa8kSw"
      },
      "source": [
        "L’article traite des problèmes inverses linéaires mal posés dans un cadre bayésien."
      ]
    },
    {
      "cell_type": "markdown",
      "metadata": {
        "id": "1jWUpATk8kSw"
      },
      "source": [
        "Le but du papier est de résoudre des problèmes inverses linéaires bayésiens de la forme :\n",
        "\n",
        "$$ y = Ax + \\sigma_{y} \\varepsilon $$\n",
        "\n",
        "où :\n",
        "- $y$ est l'observation bruitée\n",
        "- $x$ est la variable à reconstruire\n",
        "- $A$ une matrice de projection\n",
        "- $\\varepsilon \\sim \\mathcal{N}(0, I)$ la perturbation aléatoire agissant sur les pixels de $y$\n",
        "- $\\sigma_{y}$ le facteur de bruit ajouté à $y$\n",
        "\n",
        "Dans ce cadre, l'objectif consiste à retrouver l'image $x$ à partir de l'observation bruitée $y$.\n",
        "\n",
        "Une difficulté réside dans la **non-unicité** de $x$. En effet, plusieurs $x$ peuvent donner un même $y$. Egalement, on fait face à une **instabilité**, car les petites erreurs sur $y$ peuvent induire de grandes erreurs sur $x$.\n"
      ]
    },
    {
      "cell_type": "markdown",
      "metadata": {
        "id": "idOChsNa8kSw"
      },
      "source": [
        "#### Exemples d'application et types de données"
      ]
    },
    {
      "cell_type": "markdown",
      "metadata": {
        "id": "2ubaZ7O38kSw"
      },
      "source": [
        "**Applications :**\n",
        "\n",
        "- Imagerie médicale : En IRM ou scanner, on n’observe pas directement l’image, mais des projections linéaires.\n",
        "- Photographie computationnelle : On tente de restaurer une image floue ou basse - - Restauration d’images : Défloutage, inpainting (compléter une image partiellement masquée), super-résolution.\n",
        "\n",
        "**Types de données :**\n",
        "\n",
        "La plupart des applications se basent sur des images, mais on peut également exploiter ce problème pour les signaux, notamment audio."
      ]
    },
    {
      "cell_type": "markdown",
      "metadata": {
        "id": "YE0hz5118kSx"
      },
      "source": [
        "#### Quelques définitions"
      ]
    },
    {
      "cell_type": "markdown",
      "metadata": {
        "id": "96QG4mWD8kSx"
      },
      "source": [
        "**Problème inverse linéaire** :\n",
        "On dit qu'un problème inverse est linéaire lorsque l'opérateur $A$ définit dans l'équation ci-dessus est linéaire.\n",
        "\n",
        "**Problème inverse bayésien** : Le point de vue bayésien consiste à modéliser $x$ comme une variable aléatoire ayant une loi a priori et à utiliser les données $y$ pour obtenir une loi a posteriori de $x$, notée $p(x|y)$, à l'aide de la formule de Bayes :\n",
        "\n",
        "$$ p(x|y) \\propto p(y|x) \\cdot p(x) $$\n",
        "\n",
        "où :\n",
        "- $p(x)$ est le prior (connaissance initiale sur $x$)\n",
        "- $p(y|x)$ la vraisemblance (probabilité d'observer $y$ si $x$ est donné)\n",
        "- $p(x|y)$ la loi a posteriori\n",
        "\n",
        "L'avantage d'une telle formulation est qu'elle fournit non seulement une estimation de $x$, mais également une **incertitude** sur cette estimation.\n",
        "\n",
        "**Problème bien posé** :\n",
        "On dit qu'un problème inverse est bien posé au sens d'Hadamard, si et seulement si il satisfait les deux conditions suivantes :\n",
        "- Quelle que soit la donnée initiale (ici $x$), le problème admet une unique solution $f(x)$.\n",
        "- $f : \\mathbb{R}^M \\to \\mathbb{R}^N$ est continue."
      ]
    },
    {
      "cell_type": "markdown",
      "metadata": {
        "id": "qatah_lB8kSx"
      },
      "source": [
        "#### Retour à notre cadre"
      ]
    },
    {
      "cell_type": "markdown",
      "metadata": {
        "id": "b2cY05dL8kSx"
      },
      "source": [
        "Dans le cas du problème d'inversion directe, celui-ci est bien posé si et seulement si $A$ est inversible, puisqu'alors $x \\mapsto A^{-1}y$ est continue car on est en dimension finie.\n",
        "\n",
        "Comme en pratique on ne sait pas si $A$ est carée, ni inversible, on ne peut pas procéder à une inversion directe. On cherche alors $x \\in \\mathbb{R}^N$ tel que $Ax$ et $y$ soient proches. Les moindres carrés consistent à résoudre : $\\underset{x \\in \\mathbb{R}^N}{\\arg\\min} \\, \\left\\| Ax - y \\right\\|_2^2$\n",
        "\n",
        "Or, la solution à ce problème \"explose\" souvent, alors on ajoute une régularisation.\n",
        "\n",
        "On s'intéresse donc à :\n",
        "\n",
        "$$\\underset{x \\in \\mathbb{R}^N}{\\arg\\min} \\left( \\left\\| Ax - y \\right\\|_2^2 +  Reg(x) \\right)$$\n",
        "\n",
        "où $ x \\mapsto Reg(x)$ est une est une fonction de régularisation qui pénalise les images non satisfaisantes (par exemple les images très irrégulières, images dont les valeurs explosent, etc)."
      ]
    },
    {
      "cell_type": "markdown",
      "metadata": {
        "id": "vBXF9gWn8kSx"
      },
      "source": [
        "Les limites des approches existantes dans la littérature avant ce papier incluent, mais ne se limitent pas à :\n",
        "- Un choix de fonction de régularisation difficile, car elle doit refléter les propriétés de x, et qui pourtant, a une grande influence sur la reconstruction.\n",
        "- Pas d’information sur l’incertitude de la solution.\n",
        "- Ne fournit qu’une seule solution point-estimée."
      ]
    },
    {
      "cell_type": "markdown",
      "metadata": {
        "id": "tb9OkYdF8kSx"
      },
      "source": [
        "### <font color=darkred> Description de la méthode </font>"
      ]
    },
    {
      "cell_type": "markdown",
      "metadata": {
        "id": "aV9bkerL8kSx"
      },
      "source": [
        "<font color=darkblue> *Nous avons choisi de nous concentrer dans ce notebook sur le cas sans bruit. Dans la suite, nous allons décrire cette méthode et l'implémenter.* </font>"
      ]
    },
    {
      "cell_type": "markdown",
      "metadata": {
        "id": "S8mAjfkV8kSy"
      },
      "source": [
        "<u>Cas sans bruit</u> (sur l'observation), c'est-à-dire qu'on suppose l'observation comme exacte $\\sigma_y =0$ :\n",
        "\n",
        "On observe exactement les $dy$ premières coordonnées <u>x</u> de $X$ (avec $X = $ <u>x</u> + $\\bar{x}$), ce qui simplifie le problème en inférant la loi postérieure sur $\\bar{x}$, les $dx - dy$ états latents restants, sachant $y$.\n",
        "\n",
        "Dans ce cas, on a une égalité stricte $y=Ax$ et seules les valeurs de $x$ la vérifiant sont compatibles avec l'observation. On peut donc voir la fonction de vraisemblance $p(y|x)$ comme une fonction de Dirac : $$p(y|x) = \\mathbb{1}_{\\{Ax = y\\}}$$\n",
        "\n",
        "\n",
        "\n",
        "Le papier fournit le pseudo-code de l'algorithme $\\texttt{MCGdiff}$ suivant, que nous allons tenter d'implémenter dans la partie suivante :\n",
        "\n",
        "![image-2.png](attachment:image-2.png)\n"
      ]
    },
    {
      "cell_type": "markdown",
      "metadata": {
        "id": "bBcbx7pD8kSy"
      },
      "source": [
        "On connait les $d_y$ premières coordonnées de $X$, on veut inférer la loi postérieure $\\phi_0^y(\\underline{x_0})$ sur les variables latentes de $X$ (variables restantes) sachant $y$.\n",
        "\n",
        "L'échantillonnage a cette forme intégrale :\n",
        "\n",
        "$$\n",
        "\\phi_0^y(\\underline{x_0}) \\propto \\int g_1^y(x_1)^{-1} \\, \\overline{p}_0(y \\mid \\overline{x}_1) \\, \\underline{p}_0(\\underline{x}_0 \\mid x_1) \\, \\phi_1^y(dx_1)\n",
        "$$\n",
        "\n",
        "où :\n",
        "- $\\underline{x_0}$ est la partie inconnue de l'état $X$ et $y$ la partie observée.\n",
        "- $\\phi_0^y(\\underline{x_0})$ est la densité cible au temps initial $t=0$\n",
        "- $\\underline{x_0}$ est le premier état de l'échantillon incomplet"
      ]
    },
    {
      "cell_type": "markdown",
      "metadata": {
        "id": "MPKwF5mv8kSy"
      },
      "source": [
        "Pour échantilloner, on utilise l'algo $\\texttt{SMC}$ (Sequential Monte Carlo) permettant de mettre à jour de manière itérative les $N$ échantillons aléatoires (appelés particules) pour approximer la distribution à postériori $p(x|y)$.\n",
        "\n",
        "Concrètement, on veut échantillonner la distribution $\\phi_0^y(\\underline{x_0})$ mais elle est trop compliquée pour qu'on puisse la tirer directement, alors on crée un chemin de distributions intermédiaires :\n",
        "\n",
        "$$ \\phi_n^y \\rightarrow \\phi_{n-1}^y \\rightarrow ... \\rightarrow \\phi_0^y$$\n",
        "\n",
        "où :\n",
        "\n",
        "- $\\phi_n^y$ est simple à échantillonner, par exemple gaussienne\n",
        "- $ \\phi_0^y$ la loi postérieure cible\n",
        "\n",
        "L'algorithme $\\texttt{MCGdiff}$ repose sur un échantillonnage séquentiel de Monte Carlo ($\\texttt{SMC}$) dans le sens backward du temps, c’est-à-dire du temps final $t=n$ (où la distribution est simple) vers le temps initial $t=0$ (où l’on souhaite approximer la postérieure).\n",
        "\n",
        "**1) On initialise les particules à l'instant final $s=n$**\n",
        "\n",
        "Pour initialiser les particules à l’instant final $n$, on génère des échantillons à partir de la distribution $\\phi_n^y$ à l’aide d’un mécanisme guidé par l’observation $y$. Cette étape combine l’information observée et du bruit aléatoire pour produire des particules réalistes, selon la formule suivante :\n",
        "\n",
        "$$\n",
        "\\overline{\\xi}_n^i = K_n \\bar{\\alpha}_n^{1/2} y + (1 - \\bar{\\alpha}_n) K_n \\bar{z}_n^i,\\quad\n",
        "\\xi_n^i = \\overline{\\xi}_n^i {}^{\\mathbin{\\frown}} \\underline{z}_n^i\n",
        "$$\n",
        "\n",
        "où $\\overline{z}_n^i \\sim \\mathcal{N}(0_{d_y}, I{d_y}) \\hspace{5pt} \\text{et} \\hspace{5pt} \\underline{z}_n^i \\sim \\mathcal{N}(0_{I_{d_x - d_y}}, I_{d_x - d_y})$.\n",
        "\n",
        "L'ensemble de particules $\\xi_n^i$ proches de la projection $K_n$ est initialisé."
      ]
    },
    {
      "cell_type": "markdown",
      "metadata": {
        "id": "bgDcLPCM8kSy"
      },
      "source": [
        "**2) Propagation backward des particules de $s=n-1$ jusqu'à $s=0$**\n",
        "\n",
        "la phase backward consiste à remonter progressivement de l’état final $x_n$ vers l’état initial $x_0$, en construisant à chaque étape une approximation de la distribution conditionnelle $p(x_s|y)$. Ce processus repose sur la méthode d’échantillonnage séquentielle $\\texttt{SMC}$ : on commence par initialiser des particules à l'étape $s=n$, proches de l'observation $y$, puis on remonte pas à pas (de $s=n−1$ à $s=0$).\n",
        "\n",
        "**Calcul des poids d’importance**\n",
        "\n",
        "A chaque étape, on pondère les particules selon leur cohérence avec l'observation $y$ via des poids.\n",
        "\n",
        "- Si $s=n-1$ (cas terminal), le poids est $ \\widetilde{\\omega}_{n-1}^i (\\xi_n^i) = \\mathcal{N}( \\overline{\\alpha}^{1/2}y ; \\overline{\\text{m}}_n(\\xi_{s+1}^i), 2- \\overline{\\alpha}_n)$\n",
        "\n",
        "- Sinon (cas intermédiaire), le calcul des poids se fait selon la formule :\n",
        "\n",
        "$$ \\frac{ \\mathcal{N}( \\overline{\\alpha}^{1/2}y ; \\overline{\\text{m}}_{s+1}(\\xi_{s+1}^i), \\sigma_{s+1}^2 , 1- \\overline{\\alpha}_n) }{ \\mathcal{N}( \\overline{\\alpha}_{s+1}^{1/2}y ; \\overline{\\xi}_{s+1}^i, 1 - \\overline{\\alpha}_{s+1}}) $$\n",
        "\n",
        "Une fois les poids d'importance calculés pour toutes les particules à l’étape $s+1$, on effectue un rééchantillonnage.\n",
        "\n",
        "**Rééchantillonnage multinomial**\n",
        "\n",
        "Chaque particule $s$ va être va être engendrée à partir d’une particule \"parente\" $\\xi_{s+1}^{I_{s+1}^i}$ au hasard parmi les $\\xi_{s+1}^j$ avec une probabilité conditionnelle à leur poids. C'est un échantillonnage multinomial, où l'on tire $N$ fois dans une loi catégorielle discrète : $ \\text{Cat}\\left(\\left\\{ \\tilde{\\omega}_s\\left(\\xi_{s+1}^j\\right) \\middle/ \\sum_{k=1}^N \\tilde{\\omega}_s\\left(\\xi_{s+1}^k\\right) \\right\\}_{j=1}^N\\right) $. Cela permet de concentrer les particules sur les zones de forte probabilité de la distribution cible.\n",
        "\n",
        "Une fois l’ancêtre $\\xi_{s+1}^{I_{s+1}^i}$ sélectionné, on génère un nouvel échantillon intermédiaire $\\overline{\\xi}_s^i$, qui combine l'observation $y$, un bruit $\\overline{z}_s^i \\sim \\mathcal{N}(O_{d_s}, I_{d_s})$.\n",
        "\n",
        "**Mise à jour des particules à l'instant $s$**\n",
        "\n",
        "On met à jour les particules à l'instant $s$ via la formule :\n",
        "\n",
        "$$ \\bar{\\xi}_s^i = K_s \\bar{\\alpha}_s^{1/2} y + (1 - K_s) \\overline{m}_{s+1}(\\xi_{s+1}^i) + (1 - \\alpha_s)^{1/2} K_s^{1/2} \\bar{z}_s^i,\\quad\n",
        "\\underline{\\xi}_s^i = \\underline{m}_{s+1}(\\xi_{s+1}^i) + \\sigma_{s+1} \\underline{z}_s^i\n",
        "$$\n",
        "\n",
        "**Particule complétée**\n",
        "\n",
        "On concatène les deux parties pour obtenir la nouvelle particule à l'instant $s$ : $ \\xi_n^i = \\underline{\\xi}_s^i {}^{\\mathbin{\\frown}} \\overline{\\xi}_s^i$.\n",
        "\n",
        "Cette étape simule une particule $\\xi_s^i$ à partir de la suivante $\\xi_{s+1}^i$, en combinant :\n",
        "\n",
        "- l'information observée $y$,\n",
        "- la guidance par le score prior via $m_{s+1}$,\n",
        "- le bruit aléatoire pour conserver la diversité.\n",
        "\n",
        "Elle permet de remonter le processus de diffusion de façon informée par les données et le modèle."
      ]
    },
    {
      "cell_type": "markdown",
      "metadata": {
        "id": "GU1L3dwn8kSy"
      },
      "source": [
        "<font color=darkblue> *Bien que nous n'ayons pas eu pour objectif l'implémentation du cas sans bruit, nous fournissons quand même cette explication du cas sans bruit, qui constitue l'une des différences principale avec le cas sans bruit.* </font>\n",
        "\n",
        "<u>Cas avec bruit</u> (sur l'observation) avec une intensité de bruit $\\sigma_y >0$, c'est-à-dire que l'observation est incertaine, c'est l'instance bruitée d’un processus aléatoire :\n",
        "\n",
        "L'observation $y$ est bruitée, donc même si on connaît $x$, l'observation $y$ peut varier un peu à cause du bruit. $y$ suit une loi gaussienne centrée en $Ax$ donc la densité de vraisemblance est $p(y|x) = \\mathcal{N}(y; Ax, \\sigma_{y}^{2} I_{d_{y}})$. La vraisemblance $p(y|x)$ est donc élevée si $y$ est proche de $Ax$ et faible si $y$ est loin."
      ]
    },
    {
      "cell_type": "markdown",
      "metadata": {
        "id": "KLNw2y7q8kSy"
      },
      "source": [
        "### <font color=darkred> Limites des approches existantes dans la littérature et Contributions de ce papier pour y répondre : </font> l'algorithme $\\texttt{MCGdiff}$"
      ]
    },
    {
      "cell_type": "markdown",
      "metadata": {
        "id": "SXvL-niK8kSy"
      },
      "source": [
        "<font color=darkblue> *Dans cette section, nous tâchons de lister les limites des approches existantes dans la littérature avant la publication de ce papier, puis pour chacune des limites, expliquer la contribution apportée dans ce papier pour pallier à la limite associée.*\n",
        "</font>"
      ]
    },
    {
      "cell_type": "markdown",
      "metadata": {
        "id": "4HcY0Vv-8kSy"
      },
      "source": [
        "- La littérature se concentrant sur l'optimisation de fonctions de régularisations ne permet certe de fournir une estimation, mais on ne sait pas combien on peut lui faire confiance.\n",
        "\n",
        "$\\to$ Le papier propose une approche bayésienne, dans laquelle on adopte un point de vue probabiliste : on médilise l'incertitude sur $x$ avec une loi a priori $p(x)$. La formulation bayésienne fournit non seulement une estimation de $x$, mais également une **incertitude** sur cette estimation. Elle permet également d'estimer l'ensemble des solutions probables et non pas juste une seule.\n",
        "\n",
        "- Le problème est mal posé (non-unicité de la solution, instabilité car grands variations dans la reconstruction de $x$ dues à de petites perturbations sur $y$), d'où le besoin de priors puissants.\n",
        "\n",
        "$\\to$ Les auteurs proposent d'utiliser un modèle de diffusion comme prior pour échantilloner la loi posterior $p(x|y)$.\n",
        "\n",
        "En particulier, les *score-based generative models* $\\texttt{SGM}$. Ces modèles permettent de générer des échantillons réalistes à partir de bruit en inversant un processus de diffusion montrant une grande efficacité pour servir de priors dans les problèmes inverses bayésiens.\n",
        "\n",
        "Cette approche par *score-based generative models* comprend bien des avantages : au delà de l'absence de nécéssité d'entraînement spécifique par tâche (défloutage, inpainting, super-resolution, etc), est son indépendance avec le problème inverse initial. C'est-à-dire que ce prior est appris au préalable, de manière non supervisée, sur les données de type $x$ du dataset.\n",
        "\n",
        "De plus, ces modèles $\\texttt{SGM}$ ne nécessitent pas de modéliser explicitement la densité $p(x)$. Ils apprennent directement son gradient logarithmique, qu'on appelle $\\texttt{score}$ :\n",
        "\n",
        "- Les précédentes approches dans la littérature $(\\texttt{DDPM, score SDE})$ imposaient des hypothèses particulièrement fortes sur la coïncidence des lois jointes des processus avant $p$ et la loi de transition arrière $q$ :\n",
        "\n",
        "$$ p_t(x_t) \\hspace{2pt} q_{t+1}(x_{t+1}|x_t) = p_{t+1}(x_{t+1}) \\hspace{2pt} p_t(x_t|x_{t+1}) \\hspace{10pt} \\forall t \\in [0: n-1] $$\n",
        "\n",
        " Or, ce n'est pas le cas dans des contextes réalistes. En effet, la loi conditionnelle backward $p_t(x_t|x_{t+1})$ est en général inconnue. $q_t$ la loi de transition backward non plus.\n",
        "\n",
        "$\\to$ L'algorithme $\\texttt{MCGdiff}$ permet de s'aquitter de cette hypothèse forte tout en fournissant une solution cohérente sans hypothèse restrictive.\n",
        "\n",
        "De plus, dans les modèles basés sur la log-vraisemblance *likelihood-based models*, la méthode consistait en la modélisation directe de la densité de probabilité comme suit :\n",
        "\n",
        "$$ p_\\theta(x) = \\frac{\\mathrm{e}^{-f_\\theta(x)}}{Z_\\theta} $$\n",
        "\n",
        "où :\n",
        "\n",
        "- $f_\\theta$ est une fonction à valeurs réelles paramétrée par un paramètre inconnu\n",
        "- $\\theta$, entraîné à partir du jeu de données\n",
        "- $Z_\\theta$ est une constante de normalisation\n",
        "\n",
        "$Z_\\theta$ est une \"partition function\" représentée par une intégrale sur tout l'espace des données, très grand dans le cadre d'un dataset d'images. Celle-ci permet de normaliser la fonction $\\mathrm{e}^{-f_\\theta(x)}$ pour en faire une densité de probabilité :\n",
        "\n",
        "$$ Z_{\\theta} = \\int e^{-f_{\\theta}(x)}\\, dx \\quad \\text{et donc} \\quad \\int p_{\\theta}(x)\\, dx = 1 $$\n",
        "\n",
        "Or, l'intégrale $Z_{\\theta}$ n'a pas de solution fermée dans la majorité des cas, mais pour entraîner $p_{\\theta}(x)$, il faudrait idéalement connaître $Z_\\theta$.\n",
        "\n",
        "$\\to$ Les auteurs proposent l'algorithme d'échantillonnage $\\texttt{SMC}$, permettant d'échantillonner des particules selon $p_\\theta(x)$, sans la connaissance de $Z_\\theta$.\n",
        "\n",
        "\n",
        "\n",
        "Une approximation $q_t(x_t | x_{t+1})$ est choisie pour modéliser la transition entre deux instants du processus de diffusion dans le sens inverse du temps. Cette transition stochastique est construite à partir :\n",
        "\n",
        "- du point $x_{t+1}$\n",
        "- du score $s_t(x_{t+1}) = \\nabla \\text{log} \\hspace{2pt} p_t(x_{t+1})$\n",
        "- d'un bruit gaussien centré autour de $ x_{t+1} + \\sigma_{t}^{2} \\dot \\nabla \\text{log} p_t(x_{t+1})$ avec une variance isotrope $\\sigma_{t}^{2} I$."
      ]
    },
    {
      "cell_type": "markdown",
      "metadata": {
        "id": "y-JvhxS98kSz"
      },
      "source": [
        "En effet, dans les *score-based approach*, on modélise directement la fonction de score suivante :\n",
        "\n",
        "$$\n",
        "s_\\theta(x) = \\nabla_x \\log p_\\theta(x)\\,.\n",
        "$$\n",
        "\n",
        "C'est très pratique car cette quantité ne dépend pas de $Z_\\theta$ comme $\\nabla_x \\log p_\\theta(x) = - \\nabla_x f_\\theta(x)$.\n",
        "Le score peut donc être paramétrisé sans se soucier de la constante de normalisation $Z_\\theta$."
      ]
    },
    {
      "cell_type": "markdown",
      "metadata": {
        "id": "XtCCMvuR8kSz"
      },
      "source": [
        "Une fois cette approximation $q_t(x_t | x_{t+1})$ définie, l’algorithme MCGdiff échantillonne une population de particules backward à l’aide de cette transition, et corrige l’erreur d’approximation par un mécanisme d’importance sampling.\n",
        "\n",
        "Ainsi, à chaque étape $t$, on :\n",
        "\n",
        "- Évalue la vraisemblance de chaque particule propagée selon l’observation $y$ et la structure du modèle backward,\n",
        "- Calcule des poids d’importance non normalisés $\\widetilde{\\omega}_t^i$,\n",
        "- Applique un rééchantillonnage multinomial selon ces poids pour sélectionner les ancêtres les plus cohérents avec la distribution cible.\n",
        "\n",
        "Ce mécanisme permet à $\\texttt{MCGdiff}$ :\n",
        "\n",
        "de simuler des trajectoires backward cohérentes même si $p_t(x_t|x_{t+1})$ est inconnu, et d’approcher la postérieure $p(x|y)$ au lieu de simplement générer des échantillons réalistes."
      ]
    },
    {
      "cell_type": "markdown",
      "metadata": {
        "id": "MECEEHz48kSz"
      },
      "source": [
        "- Les algorithmes existants dans la littérature ne garantissent pas formellement une cohérence pour l’échantillonnage conditionnel basé sur des modèles de diffusion.\n",
        "\n",
        "$\\to$ Sous des des hypothèses raisonnables, les auteurs démontrent que la distribution empirique des échantillons produits par MCGdiff converge vers la distribution a posteriori cible, lorsque le nombre de particules tend vers l’infini.\n",
        "\n",
        "- De plus, les approches dans la littérature ne fournissent pas d'expériences numériques sur plusieurs cas où la loi posterior est connue.\n",
        "\n",
        "$\\to$ Les auteurs valident leurs résultats théoriques en générant des echantillons concentrés sur le support réel de la postérieure."
      ]
    },
    {
      "cell_type": "markdown",
      "metadata": {
        "id": "L0x71VDm8kSz"
      },
      "source": [
        "**$\\to$ Ainsi, l'algortihme $\\texttt{MCGdiff}$ proposé par les auteurs combine :**\n",
        "- Le score-based prior, appris au préalable de manière non supervisée,\n",
        "- Une méthode Monte Carlo séquentielle $\\texttt{SMC}$ pour produire des échantillons de la posterior $p(x|y)$ de manière guidée grâce au score."
      ]
    },
    {
      "cell_type": "markdown",
      "metadata": {
        "id": "Dmp5rWmZ8kSz"
      },
      "source": [
        "### <font color=darkred> Implémentation de l'algorithme </font> $\\texttt{MCGdiff}$"
      ]
    },
    {
      "cell_type": "markdown",
      "metadata": {
        "id": "bNJ7Ykrf8kS0"
      },
      "source": [
        "<font color=darkblue> *Dans cette section, nous tentons d'explorer plusieurs implémentations de $\\texttt{MCGdiff}$, avec ou sans $\\texttt{SMC}$, avec ou sans structure d'autoencodeur.*\n",
        "\n",
        "Tout au long de ce notebook, notre objectif sera de reconstruire des images MNIST bruitées en suivant au plus près le schéma de reverse diffusion décrit dans le papier.\n",
        "\n",
        "</font>\n"
      ]
    },
    {
      "cell_type": "markdown",
      "metadata": {
        "id": "54-i0Rgc8kS0"
      },
      "source": [
        "<u>Cas sans bruit</u> (sur l'observation) : On propose d'implémenter l'approche dans laquelle on néglige le bruit de mesure c'est-à-dire lorsque $\\sigma_{y}=0$. On tombe sur un problème d'inversion directe, on cherche $x$ tel que $y= Ax$.\n",
        "\n",
        "L’objectif est d’échantillonner les coordonnées manquantes de $x \\sim p_0$ conditionnellement à la partie observée $y$."
      ]
    },
    {
      "cell_type": "markdown",
      "metadata": {
        "id": "YGBC7bdA8kS0"
      },
      "source": [
        "#### <font color=darkred> Implémentation du SMC seul</font>"
      ]
    },
    {
      "cell_type": "markdown",
      "metadata": {
        "id": "TPimSMMb8kS0"
      },
      "source": [
        "Posons :\n",
        "\n",
        "- $x \\in \\mathbb{R}^{d_x}$ = variable latente\n",
        "- $y \\in \\mathbb{R}^{d_y}$ = observation\n",
        "- $\\bar{\\alpha}_t = \\prod_{s=1}^{t} (1 - \\beta_s)$\n",
        "- $\\alpha_t = 1 - \\beta_t$\n",
        "- $K_t$ : matrice de gain (dans le papier c’est un scalaire, mais on garde la matrice générale)\n",
        "\n",
        "On définit :\n",
        "- $\\vec{\\xi_t^{i}}$ : particule guidée par l’observation\n",
        "- $\\xi_t^{i}$ : particule complète\n",
        "- $m_t(x)$ : centre de transition du backward process\n"
      ]
    },
    {
      "cell_type": "markdown",
      "metadata": {
        "id": "_MYPz2DK8kS0"
      },
      "source": [
        "**Initialisation des particules à $t=n$**"
      ]
    },
    {
      "cell_type": "markdown",
      "metadata": {
        "id": "Zih3wlFN8kS1"
      },
      "source": [
        "On veut :\n",
        "\n",
        "- tirer les $dy$ premières dimensions guidées par $y$\n",
        "- et les $dx - dy$ restantes comme bruit libre.\n",
        "\n",
        "La variable finale $\\xi_n^{i} \\in \\mathbb{R}^{dx}$ est la concaténation de ces deux parties $\\vec{\\xi_n^{i}} \\in \\mathbb{R}^{dx}$ (guidée) et $\\hat{z}_n^{i} \\in \\mathbb{R}^{dx-dy}$."
      ]
    },
    {
      "cell_type": "code",
      "execution_count": null,
      "metadata": {
        "id": "GFtdLv1B8kS1"
      },
      "outputs": [],
      "source": [
        "import numpy as np\n",
        "from scipy.stats import multivariate_normal\n",
        "import pandas as pd\n",
        "import matplotlib.pyplot as plt\n",
        "\n",
        "# On commence par initialiser les particules\n",
        "# xi_s et xi_bar_s\n",
        "\n",
        "# Initialisation des particules\n",
        "# Correspond à l'algorithme 1, lignes 1 à 4 :\n",
        "# Pour chaque particule i :\n",
        "# - on tire z_n^i ~ N(0_dy, I_dy)\n",
        "# - on calcule \\bar{ξ}_n^i = K_n sqrt(α_n) y + (1 - α_n) K_n z_n^i\n",
        "# - on tire \\hat{z}_n^i ~ N(0_dx-dy, I_dx-dy)\n",
        "# - on pose ξ_n^i = \\bar{ξ}_n^i + \\hat{z}_n^i (concaténation)\n",
        "\n",
        "def initialize_particles(N, dy, dx, alpha_n, K_n, y):\n",
        "    \"\"\"\n",
        "    Initialise les particules ξ_n selon l'algorithme 1 MCGdiff (σ = 0).\n",
        "\n",
        "    Args:\n",
        "        N       : nombre de particules\n",
        "        dy      : nombre de coordonnées observées (dim de y)\n",
        "        dx      : dimension totale\n",
        "        alpha_n : coefficient d'atténuation (alpha_n = 1 - β_n)\n",
        "        K_n     : matrice de gain (matrice dx x dy)\n",
        "        y       : observation de dimension dy\n",
        "\n",
        "    Returns:\n",
        "        xi_n (N x dx) : particules complètes à l'instant n\n",
        "        xi_bar_n (N x dy) : partie observée conditionnée de chaque particule\n",
        "    \"\"\"\n",
        "    sqrt_alpha_n = np.sqrt(alpha_n)\n",
        "    d_remain = dx - dy # dimension de coord non observés\n",
        "\n",
        "    # Matrices de particules\n",
        "    xi_n = np.zeros((N, dx))       # Particules complètes\n",
        "    xi_bar_n = np.zeros((N, dy))   # Parties observées conditionnées sur y\n",
        "\n",
        "    for i in range(N):\n",
        "        # Bruit sur la partie observée\n",
        "        z_dy = np.random.randn(dy)\n",
        "\n",
        "        # Calcul de ξ̄_n^i = K_n (√α_n y + (1 - α_n) z_dy)\n",
        "        xi_bar = K_n @ (sqrt_alpha_n * y + (1 - alpha_n) * z_dy)\n",
        "        xi_bar_n[i] = xi_bar\n",
        "\n",
        "        # Bruit sur la partie non observée\n",
        "        z_remain = np.random.randn(d_remain)\n",
        "\n",
        "        # Construction finale ξ_n^i = concat(ξ̄_n^i, z_remain)\n",
        "        xi_n[i, :dy] = xi_bar\n",
        "        xi_n[i, dy:] = z_remain\n",
        "\n",
        "    return xi_n, xi_bar_n"
      ]
    },
    {
      "cell_type": "code",
      "execution_count": null,
      "metadata": {
        "id": "-NX47Wv98kS3",
        "outputId": "25217b0c-5a5e-4c79-c31f-c5564c847cd0"
      },
      "outputs": [
        {
          "data": {
            "text/html": [
              "<div>\n",
              "<style scoped>\n",
              "    .dataframe tbody tr th:only-of-type {\n",
              "        vertical-align: middle;\n",
              "    }\n",
              "\n",
              "    .dataframe tbody tr th {\n",
              "        vertical-align: top;\n",
              "    }\n",
              "\n",
              "    .dataframe thead th {\n",
              "        text-align: right;\n",
              "    }\n",
              "</style>\n",
              "<table border=\"1\" class=\"dataframe\">\n",
              "  <thead>\n",
              "    <tr style=\"text-align: right;\">\n",
              "      <th></th>\n",
              "      <th>ξ_n[i] (particule complète)</th>\n",
              "      <th>ξ̄_n[i] (partie observée)</th>\n",
              "    </tr>\n",
              "  </thead>\n",
              "  <tbody>\n",
              "    <tr>\n",
              "      <th>0</th>\n",
              "      <td>[0.9014218690070872, -0.5870066395126547, 0.29...</td>\n",
              "      <td>[0.9014218690070872, -0.5870066395126547, 0.29...</td>\n",
              "    </tr>\n",
              "    <tr>\n",
              "      <th>1</th>\n",
              "      <td>[1.0153041294335923, -0.4758889611853043, 0.08...</td>\n",
              "      <td>[1.0153041294335923, -0.4758889611853043, 0.08...</td>\n",
              "    </tr>\n",
              "    <tr>\n",
              "      <th>2</th>\n",
              "      <td>[0.8882982584807886, -0.38320954424339304, 0.2...</td>\n",
              "      <td>[0.8882982584807886, -0.38320954424339304, 0.2...</td>\n",
              "    </tr>\n",
              "    <tr>\n",
              "      <th>3</th>\n",
              "      <td>[0.9773368133961026, -0.5702720069174846, 0.29...</td>\n",
              "      <td>[0.9773368133961026, -0.5702720069174846, 0.29...</td>\n",
              "    </tr>\n",
              "    <tr>\n",
              "      <th>4</th>\n",
              "      <td>[1.0411294677011507, -0.2762872350451256, 0.19...</td>\n",
              "      <td>[1.0411294677011507, -0.2762872350451256, 0.19...</td>\n",
              "    </tr>\n",
              "  </tbody>\n",
              "</table>\n",
              "</div>"
            ],
            "text/plain": [
              "                         ξ_n[i] (particule complète)  \\\n",
              "0  [0.9014218690070872, -0.5870066395126547, 0.29...   \n",
              "1  [1.0153041294335923, -0.4758889611853043, 0.08...   \n",
              "2  [0.8882982584807886, -0.38320954424339304, 0.2...   \n",
              "3  [0.9773368133961026, -0.5702720069174846, 0.29...   \n",
              "4  [1.0411294677011507, -0.2762872350451256, 0.19...   \n",
              "\n",
              "                           ξ̄_n[i] (partie observée)  \n",
              "0  [0.9014218690070872, -0.5870066395126547, 0.29...  \n",
              "1  [1.0153041294335923, -0.4758889611853043, 0.08...  \n",
              "2  [0.8882982584807886, -0.38320954424339304, 0.2...  \n",
              "3  [0.9773368133961026, -0.5702720069174846, 0.29...  \n",
              "4  [1.0411294677011507, -0.2762872350451256, 0.19...  "
            ]
          },
          "execution_count": 36,
          "metadata": {},
          "output_type": "execute_result"
        }
      ],
      "source": [
        "# test de la fonction d'initialisation des particules\n",
        "# initialize_particles(N, dy, dx, alpha_n, K_n, y)\n",
        "\n",
        "# Paramètres\n",
        "N = 5\n",
        "dy = 3\n",
        "dx = 6\n",
        "alpha_n = 0.9\n",
        "y = np.array([1.0, -0.5, 0.2])\n",
        "\n",
        "# K_n : identité (plus simple)\n",
        "K_n = np.eye(dy)\n",
        "\n",
        "xi_n, xi_bar_n = initialize_particles(N, dy, dx, alpha_n, K_n, y)\n",
        "\n",
        "df_init = pd.DataFrame({\n",
        "    \"ξ_n[i] (particule complète)\": list(xi_n),\n",
        "    \"ξ̄_n[i] (partie observée)\": list(xi_bar_n)\n",
        "})\n",
        "\n",
        "df_init"
      ]
    },
    {
      "cell_type": "markdown",
      "metadata": {
        "id": "zceszcf78kS4"
      },
      "source": [
        "**Pondération des particules à $t=n−1$**"
      ]
    },
    {
      "cell_type": "code",
      "execution_count": null,
      "metadata": {
        "id": "97jKzwQi8kS5"
      },
      "outputs": [],
      "source": [
        "def compute_terminal_weights(xi_n, alpha_bar_n, y, m_bar_fn, dy):\n",
        "    \"\"\"\n",
        "    Calcule les poids terminaux ω̃_{n−1} selon l'équation (2.4) du papier MCGdiff.\n",
        "\n",
        "    Args:\n",
        "        xi_n       : (N x dx) particules à l'étape n\n",
        "        alpha_bar_n: scalaire, alphā_n\n",
        "        y          : observation (dy,)\n",
        "        m_bar_fn   : fonction donnant m̄_n(x) ∈ ℝ^dy\n",
        "        dy         : dimension observée\n",
        "\n",
        "    Returns:\n",
        "        weights : (N,) poids non normalisés ω̃_{n−1}\n",
        "    \"\"\"\n",
        "    N = xi_n.shape[0]\n",
        "    weights = np.zeros(N)\n",
        "    cov = (2 - alpha_bar_n) * np.eye(dy)\n",
        "    sqrt_alpha_bar_n = np.sqrt(alpha_bar_n)\n",
        "\n",
        "    for i in range(N):\n",
        "        m_bar = m_bar_fn(xi_n[i], dy)\n",
        "        weights[i] = multivariate_normal.pdf(sqrt_alpha_bar_n * y, mean=m_bar, cov=cov)\n",
        "\n",
        "    return weights\n",
        "\n",
        "\n",
        "def compute_intermediate_weights(xi_s, xi_bar_sp1, alpha_bar_sp1, sigma2_sp1, y, K_sp1, m_fn, m_bar_fn, dy):\n",
        "    \"\"\"\n",
        "    Calcule les poids intermédiaires ω̃_s selon l'équation (2.4) du papier MCGdiff.\n",
        "\n",
        "    Args:\n",
        "        xi_s         : (N x dx) particules à l'étape s\n",
        "        xi_bar_sp1   : (N x dx) particules observées à l'étape s+1\n",
        "        alpha_bar_sp1: scalaire, alphā_{s+1}\n",
        "        sigma2_sp1   : scalaire, σ²_{s+1}\n",
        "        y            : observation (dy,)\n",
        "        K_sp1        : matrice (dx x dy)\n",
        "        m_fn         : fonction donnant m_{s+1}(x) ∈ ℝ^dx\n",
        "        m_bar_fn     : fonction donnant m̄_{s+1}(x) ∈ ℝ^dy\n",
        "        dy           : dimension observée\n",
        "\n",
        "    Returns:\n",
        "        weights : (N,) poids non normalisés ω̃_s\n",
        "    \"\"\"\n",
        "    N, dx = xi_s.shape\n",
        "    weights = np.zeros(N)\n",
        "    sqrt_alpha_bar_sp1 = np.sqrt(alpha_bar_sp1)\n",
        "\n",
        "    cov1 = (sigma2_sp1 + 1 - alpha_bar_sp1) * np.eye(dy)\n",
        "    cov2 = sigma2_sp1 * np.eye(dx)\n",
        "    cov3 = (1 - alpha_bar_sp1) * np.eye(dx)\n",
        "\n",
        "    mean_denom = K_sp1 @ (sqrt_alpha_bar_sp1 * y)\n",
        "\n",
        "    for i in range(N):\n",
        "        m_bar = m_bar_fn(xi_s[i], dy)\n",
        "        m = m_fn(xi_s[i])\n",
        "        term1 = multivariate_normal.pdf(sqrt_alpha_bar_sp1 * y, mean=m_bar, cov=cov1)\n",
        "        term2 = multivariate_normal.pdf(xi_bar_sp1[i], mean=m, cov=cov2)\n",
        "        term3 = multivariate_normal.pdf(xi_bar_sp1[i], mean=mean_denom, cov=cov3)\n",
        "        weights[i] = term1 * term2 / term3\n",
        "\n",
        "    return weights"
      ]
    },
    {
      "cell_type": "code",
      "execution_count": null,
      "metadata": {
        "id": "RmNjcmRn8kS6"
      },
      "outputs": [],
      "source": [
        "# Fonctions m(x) et m̄(x) de projection\n",
        "def m_bar_fn(x, dy):  # projette sur les dy premières coords\n",
        "    return x[:dy]\n",
        "\n",
        "def m_fn(x):  # identité ici\n",
        "    return x"
      ]
    },
    {
      "cell_type": "code",
      "execution_count": null,
      "metadata": {
        "id": "LpWxqjOT8kTC",
        "outputId": "d2b7024a-c875-4c2d-babd-b993532fba7f"
      },
      "outputs": [
        {
          "data": {
            "text/html": [
              "<div>\n",
              "<style scoped>\n",
              "    .dataframe tbody tr th:only-of-type {\n",
              "        vertical-align: middle;\n",
              "    }\n",
              "\n",
              "    .dataframe tbody tr th {\n",
              "        vertical-align: top;\n",
              "    }\n",
              "\n",
              "    .dataframe thead th {\n",
              "        text-align: right;\n",
              "    }\n",
              "</style>\n",
              "<table border=\"1\" class=\"dataframe\">\n",
              "  <thead>\n",
              "    <tr style=\"text-align: right;\">\n",
              "      <th></th>\n",
              "      <th>Poids terminaux ω̃_{n−1}</th>\n",
              "      <th>Poids intermédiaires ω̃_s</th>\n",
              "    </tr>\n",
              "  </thead>\n",
              "  <tbody>\n",
              "    <tr>\n",
              "      <th>0</th>\n",
              "      <td>0.091804</td>\n",
              "      <td>3.792707e+00</td>\n",
              "    </tr>\n",
              "    <tr>\n",
              "      <th>1</th>\n",
              "      <td>0.004012</td>\n",
              "      <td>1.273924e+03</td>\n",
              "    </tr>\n",
              "    <tr>\n",
              "      <th>2</th>\n",
              "      <td>0.078977</td>\n",
              "      <td>3.139204e-26</td>\n",
              "    </tr>\n",
              "    <tr>\n",
              "      <th>3</th>\n",
              "      <td>0.088142</td>\n",
              "      <td>2.069732e-28</td>\n",
              "    </tr>\n",
              "  </tbody>\n",
              "</table>\n",
              "</div>"
            ],
            "text/plain": [
              "   Poids terminaux ω̃_{n−1}  Poids intermédiaires ω̃_s\n",
              "0                  0.091804               3.792707e+00\n",
              "1                  0.004012               1.273924e+03\n",
              "2                  0.078977               3.139204e-26\n",
              "3                  0.088142               2.069732e-28"
            ]
          },
          "execution_count": 39,
          "metadata": {},
          "output_type": "execute_result"
        }
      ],
      "source": [
        "# test des fonctions de calcul des poids terminaux et intermédiaires\n",
        "# compute_terminal_weights(xi_n_minus_1, alpha_n, y, m_bar_fn, dy)\n",
        "# et compute_general_weights(xi_s, xi_bar_sp1, alpha_sp1, sigma_sp1, y, K_sp1, m_fn, m_bar_fn, dy)\n",
        "\n",
        "# Paramètres\n",
        "N = 4\n",
        "dx = 5\n",
        "dy = 2\n",
        "alpha_bar_n = 0.9\n",
        "sigma2_sp1 = 0.1\n",
        "y = np.array([0.5, -1.2])\n",
        "K_sp1 = np.eye(dx)[:, :dy]  # dx x dy\n",
        "\n",
        "# Particules fictives\n",
        "np.random.seed(42)\n",
        "xi_n = np.random.randn(N, dx)\n",
        "xi_s = np.random.randn(N, dx)\n",
        "xi_bar_sp1 = np.random.randn(N, dx)\n",
        "\n",
        "# Calcul des poids\n",
        "terminal_weights = compute_terminal_weights(xi_n, alpha_bar_n, y, m_bar_fn, dy)\n",
        "intermediate_weights = compute_intermediate_weights(xi_s, xi_bar_sp1, alpha_bar_n, sigma2_sp1, y, K_sp1, m_fn, m_bar_fn, dy)\n",
        "\n",
        "# Affichage\n",
        "df_poids = pd.DataFrame({\n",
        "    \"Poids terminaux ω̃_{n−1}\": terminal_weights,\n",
        "    \"Poids intermédiaires ω̃_s\": intermediate_weights\n",
        "})\n",
        "\n",
        "df_poids"
      ]
    },
    {
      "cell_type": "markdown",
      "metadata": {
        "id": "Qy97-SXP8kTD"
      },
      "source": [
        "**Propagation des particules**"
      ]
    },
    {
      "cell_type": "code",
      "execution_count": null,
      "metadata": {
        "id": "Sk5b2U_98kTD"
      },
      "outputs": [],
      "source": [
        "# Propagation des particules\n",
        "# Implémente l'étape de l'algorithme 1, ligne 11 :\n",
        "# ξ_s^i ← m_{s+1}(ξ_{s+1}^{I_{s+1}^i}) + σ_{s+1} z\n",
        "# Transition de Markov backward, qui sert à simuler les ξ_s à partir des ξ_{s+1}\n",
        "# Il s'agit d'une transition stochastique, on part d'un échantillon ξ_{s+1} et\n",
        "# on lui ajoute du bruit gaussien via la fonction ci-dessous.\n",
        "\n",
        "def propagate_particles(xi_sp1, alpha_bar_sp1, sigma2_sp1, y, K_sp1, score_fn):\n",
        "    \"\"\"\n",
        "    Propagation backward des particules ξ_{s+1} vers ξ_s selon le modèle MCGdiff, cas sans bruit.\n",
        "\n",
        "    Args:\n",
        "        xi_sp1        : (N x dx) particules à l'étape s+1\n",
        "        alpha_bar_sp1 : scalaire, ᾱ_{s+1}\n",
        "        sigma2_sp1    : scalaire, σ²_{s+1}\n",
        "        y             : observation (dy,)\n",
        "        K_sp1         : matrice (dx x dy)\n",
        "        score_fn      : fonction s_{s+1}(x) retournant le score (∇ log p(x)) ∈ ℝ^dx\n",
        "\n",
        "    Returns:\n",
        "        xi_s : (N x dx) particules propagées à l'étape s\n",
        "    \"\"\"\n",
        "    N, dx = xi_sp1.shape\n",
        "    dy = y.shape[0]\n",
        "    xi_s = np.zeros((N, dx))\n",
        "    sqrt_alpha_bar_sp1 = np.sqrt(alpha_bar_sp1)\n",
        "\n",
        "    for i in range(N):\n",
        "        x_sp1 = xi_sp1[i]\n",
        "\n",
        "        # Moyenne guidée\n",
        "        score = score_fn(x_sp1)                     # ∈ ℝ^dx\n",
        "        mean = x_sp1 + sigma2_sp1 * score           # m_{s+1}(x_{s+1})\n",
        "\n",
        "        # Tirage aléatoire dans le backward kernel avec guidage\n",
        "        noise = np.random.randn(dx)\n",
        "        x_s = mean + np.sqrt(sigma2_sp1) * noise    # propagation\n",
        "\n",
        "        xi_s[i] = x_s\n",
        "\n",
        "    return xi_s"
      ]
    },
    {
      "cell_type": "code",
      "execution_count": null,
      "metadata": {
        "id": "iLHUJ5vo8kTF",
        "outputId": "f2d0163f-a703-48f0-d284-9950c6886e04"
      },
      "outputs": [
        {
          "data": {
            "text/html": [
              "<div>\n",
              "<style scoped>\n",
              "    .dataframe tbody tr th:only-of-type {\n",
              "        vertical-align: middle;\n",
              "    }\n",
              "\n",
              "    .dataframe tbody tr th {\n",
              "        vertical-align: top;\n",
              "    }\n",
              "\n",
              "    .dataframe thead th {\n",
              "        text-align: right;\n",
              "    }\n",
              "</style>\n",
              "<table border=\"1\" class=\"dataframe\">\n",
              "  <thead>\n",
              "    <tr style=\"text-align: right;\">\n",
              "      <th></th>\n",
              "      <th>Particules ξ_n (completes)</th>\n",
              "      <th>Poids terminaux ω̃_{n−1}</th>\n",
              "      <th>Particules propagées ξ_s</th>\n",
              "      <th>Poids intermédiaires ω̃_s</th>\n",
              "    </tr>\n",
              "  </thead>\n",
              "  <tbody>\n",
              "    <tr>\n",
              "      <th>0</th>\n",
              "      <td>[0.9007658742659848, -0.4929075466916386, 0.07...</td>\n",
              "      <td>0.054664</td>\n",
              "      <td>[0.8413879034001064, -0.137304350602858, -0.15...</td>\n",
              "      <td>30290.106233</td>\n",
              "    </tr>\n",
              "    <tr>\n",
              "      <th>1</th>\n",
              "      <td>[0.9414822858924804, -0.3739883592360545, 0.22...</td>\n",
              "      <td>0.054750</td>\n",
              "      <td>[0.9409755109916504, -0.25403659778408505, 0.2...</td>\n",
              "      <td>5094.838178</td>\n",
              "    </tr>\n",
              "    <tr>\n",
              "      <th>2</th>\n",
              "      <td>[0.9451006941395186, -0.3178772834438563, -0.0...</td>\n",
              "      <td>0.052754</td>\n",
              "      <td>[0.7422147787827656, -0.5397919036715124, -0.1...</td>\n",
              "      <td>2.485689</td>\n",
              "    </tr>\n",
              "    <tr>\n",
              "      <th>3</th>\n",
              "      <td>[0.957859375704064, -0.6730985404853461, 0.167...</td>\n",
              "      <td>0.054042</td>\n",
              "      <td>[0.943518022828681, -0.6293305520686242, -0.45...</td>\n",
              "      <td>18.538153</td>\n",
              "    </tr>\n",
              "    <tr>\n",
              "      <th>4</th>\n",
              "      <td>[0.867833937761195, -0.5245173533837105, 0.281...</td>\n",
              "      <td>0.054601</td>\n",
              "      <td>[0.7202206658234974, -0.37670797563086655, 0.2...</td>\n",
              "      <td>1.816984</td>\n",
              "    </tr>\n",
              "  </tbody>\n",
              "</table>\n",
              "</div>"
            ],
            "text/plain": [
              "                          Particules ξ_n (completes)  \\\n",
              "0  [0.9007658742659848, -0.4929075466916386, 0.07...   \n",
              "1  [0.9414822858924804, -0.3739883592360545, 0.22...   \n",
              "2  [0.9451006941395186, -0.3178772834438563, -0.0...   \n",
              "3  [0.957859375704064, -0.6730985404853461, 0.167...   \n",
              "4  [0.867833937761195, -0.5245173533837105, 0.281...   \n",
              "\n",
              "   Poids terminaux ω̃_{n−1}  \\\n",
              "0                  0.054664   \n",
              "1                  0.054750   \n",
              "2                  0.052754   \n",
              "3                  0.054042   \n",
              "4                  0.054601   \n",
              "\n",
              "                            Particules propagées ξ_s  \\\n",
              "0  [0.8413879034001064, -0.137304350602858, -0.15...   \n",
              "1  [0.9409755109916504, -0.25403659778408505, 0.2...   \n",
              "2  [0.7422147787827656, -0.5397919036715124, -0.1...   \n",
              "3  [0.943518022828681, -0.6293305520686242, -0.45...   \n",
              "4  [0.7202206658234974, -0.37670797563086655, 0.2...   \n",
              "\n",
              "   Poids intermédiaires ω̃_s  \n",
              "0               30290.106233  \n",
              "1                5094.838178  \n",
              "2                   2.485689  \n",
              "3                  18.538153  \n",
              "4                   1.816984  "
            ]
          },
          "execution_count": 41,
          "metadata": {},
          "output_type": "execute_result"
        }
      ],
      "source": [
        "# Paramètres du test\n",
        "N = 5\n",
        "dx = 6\n",
        "dy = 3\n",
        "alpha_bar_n = 0.9\n",
        "alpha_bar_sp1 = 0.85\n",
        "sigma2_sp1 = 0.1\n",
        "y = np.array([1.0, -0.5, 0.2])\n",
        "K_n = np.eye(dy)               # pour initialisation\n",
        "K_sp1 = np.eye(dx)[:, :dy]     # pour projection dans compute_intermediate_weights\n",
        "\n",
        "# Fonctions m, m_bar et score\n",
        "def m_bar_fn(x, dy): return x[:dy]\n",
        "def m_fn(x): return x\n",
        "def score_fn(x): return -x  # score d'une loi normale centrée\n",
        "\n",
        "# Étape 1 : initialisation des particules à l'étape n\n",
        "xi_n, xi_bar_n = initialize_particles(N, dy, dx, alpha_bar_n, K_n, y)\n",
        "\n",
        "# Étape 2 : test des poids terminaux\n",
        "terminal_weights = compute_terminal_weights(xi_n, alpha_bar_n, y, m_bar_fn, dy)\n",
        "\n",
        "# Étape 3 : propagation des particules backward : xi_{s+1} -> xi_s\n",
        "xi_sp1 = xi_n  # on part de l'étape n\n",
        "xi_s = propagate_particles(xi_sp1, alpha_bar_sp1, sigma2_sp1, y, K_sp1, score_fn)\n",
        "\n",
        "# Étape 4 : génération de xi_bar_{s+1} fictif\n",
        "xi_bar_sp1 = xi_sp1  # on suppose que xi_sp1 est connu (comme dans SMC)\n",
        "\n",
        "# Étape 5 : test des poids intermédiaires\n",
        "intermediate_weights = compute_intermediate_weights(xi_s, xi_bar_sp1, alpha_bar_sp1, sigma2_sp1, y, K_sp1, m_fn, m_bar_fn, dy)\n",
        "\n",
        "# Résumé final\n",
        "import pandas as pd\n",
        "df_final_test = pd.DataFrame({\n",
        "    \"Particules ξ_n (completes)\": list(xi_n),\n",
        "    \"Poids terminaux ω̃_{n−1}\": terminal_weights,\n",
        "    \"Particules propagées ξ_s\": list(xi_s),\n",
        "    \"Poids intermédiaires ω̃_s\": intermediate_weights\n",
        "})\n",
        "\n",
        "df_final_test"
      ]
    },
    {
      "cell_type": "markdown",
      "metadata": {
        "id": "ZORNkegH8kTH"
      },
      "source": [
        "<font color=darkblue>  D'après les tests, l'implémentation du SMC semble conforme. Les poids sont bien calculés et ajustés, et les particules sont propagées. Ce code constitue l'implémentation la plus fidèle et rigoureuse par rapport au papier. </font>"
      ]
    },
    {
      "cell_type": "markdown",
      "metadata": {
        "id": "n0s6cnwC8kTI"
      },
      "source": [
        "Nous allons voir dans la prochaine implémentation, une version simplifiée de SMC, notamment au niveau du rééchantillonnage."
      ]
    },
    {
      "cell_type": "markdown",
      "metadata": {
        "id": "hE2XXZgb8kTI"
      },
      "source": [
        "#### <font color=darkred> Tentative d’implémentation complète de l’algorithme original </font>"
      ]
    },
    {
      "cell_type": "markdown",
      "metadata": {
        "id": "BRfKdySt8kTJ"
      },
      "source": [
        "Nous avons dans un premier temps implémenté l’algorithme $\\texttt{MCGdiff}$ tel que présenté dans l’article, en y intégrant le calcul des poids d’importance et l’échantillonnage à chaque étape du processus backward. Cette version fidèle applique la propagation des particules par Langevin, un rééchantillonnage selon les poids, ainsi qu’une pondération impliquant trois distributions normales.\n",
        "Cependant, cette version s’est révélée très coûteuse en temps de calcul, notamment en raison :\n",
        "\n",
        "- du calcul explicite de poids complexes pour chaque particule,\n",
        "- de la dimension élevée (28×28 = 784),\n",
        "- et du nombre d’étapes de reverse diffusion (100 steps).\n",
        "\n",
        "Pour des raisons pratiques, cette version complète n’a pas pu être exploitée à grande échelle. Néanmoins, elle nous a permis de valider la compréhension des éléments clés de l’algorithme : le rôle du score, la structure backward, et l’intérêt du resampling par $\\texttt{SMC}$."
      ]
    },
    {
      "cell_type": "markdown",
      "metadata": {
        "id": "H3M3Et3I8kTJ"
      },
      "source": [
        "#### <font color=darkred> 1) Version simplifiée de </font>  $\\texttt{MCGdiff}$ <font color=darkred> sur les données MNIST </font>"
      ]
    },
    {
      "cell_type": "markdown",
      "metadata": {
        "id": "xOtywqox8kTJ"
      },
      "source": [
        "Nous avons alors mis en place une version simplifiée fidèle du processus inverse décrit dans le papier, en combinant une diffusion inversée et un guidage par le score a posteriori. Comme dans le papier, chaque particule évolue dans le temps selon une dynamique inspirée des processus de diffusion inversés (reverse DDPM), et le guidage se fait à l’aide d’un score, c’est-à-dire le gradient du log de la densité cible."
      ]
    },
    {
      "cell_type": "markdown",
      "metadata": {
        "id": "xorRymGD8kTJ"
      },
      "source": [
        "Dans $\\texttt{MCGdiff}$, ce score est en principe celui de la loi posterior $p(x|y)$, qui est difficile à connaître ou à calculer explicitement. Les auteurs contournent ce problème en proposant une estimation pratique et stable via des approximations ou des modèles appris. De notre côté, pour rester dans l’esprit de l’article tout en gardant une implémentation simple, on a approximé ce score de manière analytique.\n",
        "\n",
        "On décompose le score $\\nabla \\log p(x \\mid y)$ en deux termes :\n",
        "\n",
        "$$\\nabla \\log p(x \\mid y) = \\nabla \\log p(y|x) + \\nabla \\log p(x) $$\n",
        "\n",
        "- un terme de **vraisemblance**, qui pousse les particules à se rapprocher de l’observation $y$,\n",
        "- un terme de **prior**, qui les attire vers une région probable selon notre connaissance a priori.\n",
        "\n",
        "Dans notre cas, l'observation $y$ est une image MNIST bruitée (avec un bruit gaussien $\\sigma= 0.3$), et le prior est une loi normale centrée sur la moyenne empirique des chiffres MNIST. Cette simplification évite d'entraîner un score model complexe, tout en gardant un guidage raisonnable dans l'espace des images.\n",
        "\n",
        "Ce choix d’approximation du score permet de respecter la logique du guidage dans $\\texttt{MCGdiff}$, d'obtenir une reconstruction correcte sans apprentissage supervisé et d'exécuter la méthode rapidement grâce à une formulation entièrement vectorisée.\n",
        "\n",
        "Enfin, même si on n’a pas intégré le resampling $\\texttt{SMC}$ complet du papier (qu'on a quand même codé plus haut), on conserve les éléments essentiels du schéma backward guidé, ce qui fait de notre version une bonne illustration des idées centrales de $\\texttt{MCGdiff}$."
      ]
    },
    {
      "cell_type": "code",
      "execution_count": null,
      "metadata": {
        "id": "j4wepJR58kTJ",
        "outputId": "45149c08-c9dc-4bba-a7a4-4b07ffb859eb"
      },
      "outputs": [
        {
          "name": "stderr",
          "output_type": "stream",
          "text": [
            "99it [00:07, 12.44it/s]\n"
          ]
        },
        {
          "data": {
            "image/png": "[encoded data removed]",
            "text/plain": [
              "<Figure size 1000x300 with 3 Axes>"
            ]
          },
          "metadata": {},
          "output_type": "display_data"
        }
      ],
      "source": [
        "import torch\n",
        "import torchvision\n",
        "import torchvision.transforms as transforms\n",
        "import matplotlib.pyplot as plt\n",
        "import numpy as np\n",
        "from tqdm import tqdm\n",
        "\n",
        "# Données MNIST\n",
        "transform = transforms.ToTensor()\n",
        "dataset = torchvision.datasets.MNIST(root='./data', train=False, download=True, transform=transform)\n",
        "x_clean, _ = dataset[0]\n",
        "x_clean = x_clean.unsqueeze(0)  #(1,1,28,28)\n",
        "dx = x_clean.numel()\n",
        "\n",
        "# Ajout de bruit gaussien pour simuler l'observation y\n",
        "sigma_noise = 0.3\n",
        "x_noisy = x_clean + sigma_noise * torch.randn_like(x_clean)\n",
        "y_vec = x_noisy.view(-1).numpy()\n",
        "\n",
        "# Paramètres diffusion\n",
        "num_steps = 100\n",
        "betas = np.linspace(1e-4, 0.015, num_steps)\n",
        "alphas = 1 - betas\n",
        "cum_alphas = np.cumprod(alphas)\n",
        "\n",
        "# Moyenne empirique pour prior\n",
        "mnist_mean = torch.stack([dataset[i][0] for i in range(1000)]).mean(dim=0)\n",
        "prior_mean = mnist_mean.view(-1).numpy()\n",
        "\n",
        "# Initialisation à partir de bruit total (x_T ~ N(0,I))\n",
        "n_particles = 800\n",
        "xi_s = np.random.randn(n_particles, dx)\n",
        "\n",
        "# Reverse diffusion guidée par le score\n",
        "def score_log_posterior(x, y, prior_mean, sigma_noise):\n",
        "    grad_lik = (y - x) / sigma_noise**2\n",
        "    grad_prior = -(x - prior_mean[None, :]) / 0.3**2\n",
        "    return grad_lik + grad_prior\n",
        "\n",
        "# Reverse process SCM + MCGdiff\n",
        "for s in tqdm(reversed(range(1, num_steps))):\n",
        "    alpha_s = cum_alphas[s]\n",
        "    beta_s = betas[s]\n",
        "\n",
        "    # Score log-posterior\n",
        "    score = score_log_posterior(xi_s, y_vec, prior_mean, sigma_noise)\n",
        "\n",
        "    # Update par DDPM reverse + Langevin\n",
        "    coef = 1 / np.sqrt(alphas[s])\n",
        "    xi_mean = coef * (xi_s + beta_s * score)\n",
        "    noise = np.sqrt(beta_s) * np.random.randn(*xi_s.shape) if s > 3 else 0\n",
        "    xi_s = xi_mean + noise\n",
        "\n",
        "# Reconstruction finale\n",
        "x_est = torch.tensor(np.median(xi_s, axis=0)).float().view(1, 28, 28)\n",
        "\n",
        "fig, axs = plt.subplots(1, 3, figsize=(10, 3))\n",
        "axs[0].imshow(x_clean.squeeze().numpy(), cmap='gray')\n",
        "axs[0].set_title(\"Image propre\")\n",
        "axs[1].imshow(x_noisy.squeeze().numpy(), cmap='gray')\n",
        "axs[1].set_title(\"Image bruitée\")\n",
        "axs[2].imshow(x_est.squeeze().numpy(), cmap='gray')\n",
        "axs[2].set_title(\"Débruitée (reverse MCGdiff)\")\n",
        "for ax in axs:\n",
        "    ax.axis('off')\n",
        "plt.tight_layout()\n",
        "plt.show()"
      ]
    },
    {
      "cell_type": "markdown",
      "metadata": {
        "id": "19ik-qSH8kTK"
      },
      "source": [
        "<font color=darkblue> Cette approche, bien que moins rigoureuse, a donné des résultats intéressants. Elle permet notamment de visualiser une nette amélioration entre l’image bruitée et la version restaurée après 100 étapes backward.\n",
        "\n",
        "L’image débruitée garde la forme générale du 7.\n",
        "Les contours sont flous, avec une reconstruction globalement fidèle mais peu réaliste.\n",
        "La reconstruction reste assez bruitée\n",
        "</font>"
      ]
    },
    {
      "cell_type": "markdown",
      "metadata": {
        "id": "n38QWKXB8kTK"
      },
      "source": [
        "####  <font color=darkred> 2) Version simplifée de </font> $\\texttt{MCGdiff}$ <font color=darkred> avec Autoencodeur convolutionnel </font>"
      ]
    },
    {
      "cell_type": "markdown",
      "metadata": {
        "id": "xpVEpByp8kTK"
      },
      "source": [
        "Dans cette version, nous avons intégré un autoencodeur convolutionnel pour approximer le prior dans la méthode MCGdiff. L’idée est d’utiliser la sortie de l’autoencodeur comme une estimation plus réaliste de la structure attendue d’une image propre de chiffre manuscrit. Le score du prior est alors estimé par la différence entre l’image actuelle et sa reconstruction par le réseau, pondérée pour guider plus fortement les particules.\n",
        "\n",
        "Les résultats sont visuellement plus convaincants que dans les versions précédentes avec prior naïf :\n",
        "L’image bruitée au centre montre une forte dégradation due au bruit (σ = 0.3), mais la forme générale reste perceptible.\n",
        "L’image reconstruite (à droite) montre une forme nette et bien définie du chiffre “3”, avec beaucoup moins de bruit résiduel.\n",
        "Le contour est mieux respecté, et l'intérieur du chiffre est plus propre, signe que l’autoencodeur a appris une bonne représentation du prior.\n",
        "\n",
        "Ce résultat confirme clairement l’intérêt d’intégrer un prior appris dans le cadre de MCGdiff. Comme le proposent les auteurs de l’article, l’idée générale est de guider la diffusion inversée non seulement par l’observation, mais aussi par une connaissance a priori de ce à quoi les données devraient ressembler. Dans l’article, cette connaissance est encodée via un modèle de score entraîné (par exemple un réseau neuronal qui approxime le gradient du log prior). Ici, nous avons choisi une alternative plus simple, mais efficace : utiliser un autoencodeur convolutionnel pré-entraîné pour jouer un rôle similaire.\n",
        "\n",
        "Concrètement, à chaque étape, on utilise la sortie de l’autoencodeur comme une estimation “propre” de l’image, et on pousse les particules à s’en rapprocher. Cette approche revient à approximer le score du prior par :\n",
        "\n",
        "$$ \\nabla \\log p(x) \\approx - \\lambda (x - \\text{AE}(x))$$\n",
        "\n",
        "où $\\lambda$ est un facteur d’intensité. Ce terme vient s’ajouter au score de la vraisemblance (provenant de l'observation), formant ainsi un score a posteriori utilisé pour guider la diffusion inversée.\n",
        "\n",
        "Ce choix présente plusieurs avantages :\n",
        "Il ne nécessite aucun apprentissage spécifique du score, ce qui réduit fortement le temps de développement.\n",
        "Il tire parti d’un réseau léger, rapide à entraîner (1 epoch suffit pour obtenir des résultats décents).\n",
        "Il offre une forme de régularisation visuelle, car l’autoencodeur a appris les structures valides des chiffres MNIST.\n",
        "\n",
        "Nous restons donc bien dans l’esprit de $\\texttt{MCGdiff}$, avec :\n",
        "- une diffusion inversée simulée via un schéma de type Langevin stochastique.\n",
        "- un guidage par un score postérieur estimé de manière accessible.\n",
        "- un resampling adaptatif via l’ESS pour éviter que les particules se concentrent trop rapidement.\n",
        "- une inertie (momentum) dans la propagation, ce qui rend la trajectoire des particules plus fluide et moins bruyante."
      ]
    },
    {
      "cell_type": "code",
      "execution_count": null,
      "metadata": {
        "id": "vOE1r_KX8kTL",
        "outputId": "b5b84710-c83f-45ef-cf85-6577e75c87da"
      },
      "outputs": [
        {
          "name": "stderr",
          "output_type": "stream",
          "text": [
            "Training ConvAE (1 epoch): 100%|██████████| 469/469 [00:30<00:00, 15.20it/s]\n",
            "74it [00:04, 17.94it/s]\n"
          ]
        },
        {
          "data": {
            "image/png": "[encoded data removed]",
            "text/plain": [
              "<Figure size 1200x400 with 3 Axes>"
            ]
          },
          "metadata": {},
          "output_type": "display_data"
        }
      ],
      "source": [
        "# Autoencodeur convolutionnel\n",
        "class ConvAutoencoder(nn.Module):\n",
        "    def __init__(self):\n",
        "        super().__init__()\n",
        "        self.encoder = nn.Sequential(\n",
        "            nn.Conv2d(1, 16, 3, stride=2, padding=1),  # 28→14\n",
        "            nn.ReLU(),\n",
        "            nn.Conv2d(16, 32, 3, stride=2, padding=1), # 14→7\n",
        "            nn.ReLU(),\n",
        "            nn.Flatten(),\n",
        "            nn.Linear(32 * 7 * 7, 64),  # latent dim = 64\n",
        "        )\n",
        "        self.decoder = nn.Sequential(\n",
        "            nn.Linear(64, 32 * 7 * 7),\n",
        "            nn.ReLU(),\n",
        "            nn.Unflatten(1, (32, 7, 7)),\n",
        "            nn.ConvTranspose2d(32, 16, 3, stride=2, padding=1, output_padding=1),\n",
        "            nn.ReLU(),\n",
        "            nn.ConvTranspose2d(16, 1, 3, stride=2, padding=1, output_padding=1),\n",
        "            nn.Sigmoid()\n",
        "        )\n",
        "\n",
        "    def forward(self, x):\n",
        "        z = self.encoder(x)\n",
        "        return self.decoder(z)\n",
        "\n",
        "# Données MNIST\n",
        "transform = transforms.ToTensor()\n",
        "train_set = torchvision.datasets.MNIST(root='./data', train=True, download=True, transform=transform)\n",
        "train_loader = torch.utils.data.DataLoader(train_set, batch_size=128, shuffle=True)\n",
        "\n",
        "# Entraînement de l'autoencodeur\n",
        "ae = ConvAutoencoder()\n",
        "optimizer = optim.Adam(ae.parameters(), lr=1e-3)\n",
        "criterion = nn.MSELoss()\n",
        "\n",
        "ae.train()\n",
        "for images, _ in tqdm(train_loader, desc=\"Training ConvAE (1 epoch)\"):\n",
        "    optimizer.zero_grad()\n",
        "    recon = ae(images)\n",
        "    loss = criterion(recon, images)\n",
        "    loss.backward()\n",
        "    optimizer.step()\n",
        "\n",
        "ae.eval()\n",
        "\n",
        "# Ensembles\n",
        "x_clean, _ = train_set[7]\n",
        "x_clean = x_clean.unsqueeze(0)\n",
        "sigma_noise = 0.3\n",
        "x_noisy = x_clean + sigma_noise * torch.randn_like(x_clean)\n",
        "\n",
        "# Paramètres MCGDiff\n",
        "num_steps = 75\n",
        "betas = torch.linspace(1e-4, 0.015, num_steps)\n",
        "alphas = 1 - betas\n",
        "cum_alphas = torch.cumprod(alphas, dim=0)\n",
        "\n",
        "n_particles = 300\n",
        "x_particles = torch.randn(n_particles, 1, 28, 28)\n",
        "y = x_noisy.expand(n_particles, -1, -1, -1)\n",
        "velocity = torch.zeros_like(x_particles)\n",
        "\n",
        "# 6. Fonctions auxiliaires\n",
        "def log_likelihood(x, y, sigma):\n",
        "    return -((x - y)**2).view(len(x), -1).sum(dim=1) / (2 * sigma**2)\n",
        "\n",
        "def resample(particles, weights):\n",
        "    probs = torch.softmax(weights, dim=0)\n",
        "    indices = torch.multinomial(probs, len(particles), replacement=True)\n",
        "    return particles[indices]\n",
        "\n",
        "# Boucle MCGDiff avec prior AE\n",
        "x = x_particles.clone()\n",
        "with torch.no_grad():\n",
        "    for i in tqdm(reversed(range(1, num_steps))):\n",
        "        alpha_t = cum_alphas[i]\n",
        "        beta_t = betas[i]\n",
        "\n",
        "        # Gradient log-posterior : likelihood + prior appris\n",
        "        grad_likelihood = 3 * (y - x) / sigma_noise**2\n",
        "        x_autoencoded = ae(x)\n",
        "        grad_prior = -5 * (x - x_autoencoded) / 0.3**2  # poids du prior augmenté\n",
        "        grad_log_post = grad_likelihood + grad_prior\n",
        "\n",
        "        # Langevin + momentum\n",
        "        x_mean = (1 / torch.sqrt(alphas[i])) * (x + beta_t * grad_log_post)\n",
        "        velocity = 0.9 * velocity + 0.1 * (x_mean - x)\n",
        "        x = x_mean + torch.sqrt(beta_t) * torch.randn_like(x) + velocity\n",
        "\n",
        "        # Rééchantillonnage adaptatif (ESS)\n",
        "        ll = log_likelihood(x, y, sigma_noise)\n",
        "        probs = torch.softmax(ll, dim=0)\n",
        "        ess = 1 / (probs**2).sum()\n",
        "        if ess < 0.5 * n_particles:\n",
        "            x = resample(x, ll)\n",
        "\n",
        "# Reconstruction finale\n",
        "x_est = x.mean(dim=0)\n",
        "\n",
        "fig, axs = plt.subplots(1, 3, figsize=(12, 4))\n",
        "axs[0].imshow(x_clean.squeeze(), cmap='gray')\n",
        "axs[0].set_title(\"Image propre\")\n",
        "axs[1].imshow(x_noisy.squeeze(), cmap='gray')\n",
        "axs[1].set_title(\"Image bruitée\")\n",
        "axs[2].imshow(x_est.squeeze().detach(), cmap='gray')\n",
        "axs[2].set_title(\"Débruitée (ConvAE Prior)\")\n",
        "for ax in axs:\n",
        "    ax.axis('off')\n",
        "plt.tight_layout()\n",
        "plt.show()"
      ]
    },
    {
      "cell_type": "markdown",
      "metadata": {
        "id": "7OzgavaE8kTM"
      },
      "source": [
        "<font color=darkblue> Cette version montre qu’il est possible d’atteindre une qualité de reconstruction élevée avec un modèle relativement simple. L’autoencodeur apprend efficacement les structures attendues des chiffres et agit comme un prior informatif, tout en s’intégrant naturellement dans la logique de MCGdiff. Cela en fait une approche à la fois pragmatique et fidèle aux idées de l’article, adaptée à des projets rapides mais ambitieux. </font>"
      ]
    },
    {
      "cell_type": "markdown",
      "metadata": {
        "id": "JsA27Ius8kTN"
      },
      "source": [
        "####  <font color=darkred> Bilan sur les versions testées </font>"
      ]
    },
    {
      "cell_type": "markdown",
      "metadata": {
        "id": "O5E1bg4J8kTN"
      },
      "source": [
        "Par rapport à la version 1, où le prior était la moyenne empirique des images MNIST, l’utilisation de l’autoencodeur convolutionnel dans la version 2 améliore clairement la qualité de la reconstruction :\n",
        "\n",
        "En effet, les formes sont plus précises : les contours du chiffre sont plus nets et mieux définis. L’autoencodeur apporte une vraie information structurelle sur ce à quoi “ressemble” une image valide.\n",
        "\n",
        "Le bruit résiduel est réduit : le bruit parasite est bien atténué, sans pour autant lisser ou déformer le chiffre comme dans certaines approches trop brutales.\n",
        "- Adaptabilité : le prior appris s’ajuste mieux à des cas variés qu’une moyenne fixe, ce qui le rend plus robuste.\n",
        "\n",
        "Finalement, les résultats “ressemblent” beaucoup plus à une vraie image MNIST propre, même en présence de fort bruit.\n",
        "\n",
        "En revanche, le score basé sur un autoencodeur n’est pas aussi “justifié théoriquement” qu’un modèle de score entraîné par score matching, comme dans l’article. Mais il reste une approximation tout à fait raisonnable dans un cadre simplifié. De plus, il existe un coût d’entraînement initial (même si faible), contrairement à la version analytique.\n",
        "\n",
        "En résumé, la version 2 (avec prior appris) permet d’améliorer significativement les résultats, tout en gardant une structure algorithmique fidèle au papier. C’est une bonne démonstration de l’intérêt d’intégrer de l’apprentissage léger dans une méthode probabiliste de type $\\texttt{MCGdiff}$."
      ]
    }
  ],
  "metadata": {
    "kernelspec": {
      "display_name": "tf",
      "language": "python",
      "name": "python3"
    },
    "language_info": {
      "codemirror_mode": {
        "name": "ipython",
        "version": 3
      },
      "file_extension": ".py",
      "mimetype": "text/x-python",
      "name": "python",
      "nbconvert_exporter": "python",
      "pygments_lexer": "ipython3",
      "version": "3.10.13"
    },
    "colab": {
      "provenance": []
    }
  },
  "nbformat": 4,
  "nbformat_minor": 0
}